{
 "cells": [
  {
   "cell_type": "code",
   "execution_count": 3,
   "metadata": {
    "collapsed": true
   },
   "outputs": [],
   "source": [
    "__author__ = 'David Nidever, NOAO Data Lab Team'\n",
    "__version__ = '20170602' # yyyymmdd"
   ]
  },
  {
   "cell_type": "markdown",
   "metadata": {},
   "source": [
    "# Data Lab Interface Introduction\n",
    "*David Nidever & the NOAO Data Lab Team*"
   ]
  },
  {
   "cell_type": "markdown",
   "metadata": {},
   "source": [
    "<a class=\"anchor\" id=\"toc\"></a>\n",
    "# Table of Contents\n",
    "* [Getting started, module imports and setup](#imports)\n",
    "* [Help](#help)\n",
    "* [Authentication](#authentication)\n",
    "* [Queries](#queries)\n",
    " * [Format](#queries.format)\n",
    " * [Synchronous versus Asynchronous](#queries.sync)\n",
    " * [Query History](#queries.history)\n",
    " * [Outputs](#queries.outputs)\n",
    "* [Database Commands](#dbcommands)\n",
    " * [Database Schema](#dbcommands.schema)\n",
    " * [List MyDB Tables](#dbcommands.list)\n",
    " * [Drop a MyDB Table](#dbcommands.droptable)\n",
    " * [Export a MyDB Table to File](#dbcommands.exporttable)\n",
    " * [Simple Image Access (SIA) Search](#dbcommands.siaquery)\n",
    "* [Storage](#storage)\n",
    " * [File Listing](#storage.ls)\n",
    " * [Unix-like File Commands - cp, mv, rm, mkdir, rmdir, ln](#storage.unixcmds)\n",
    " * [Copying files to/from VOSpace](#storage.sync)\n",
    " * [Copying File from URL](#storage.copyurl)\n",
    " * [Loading files into python](#storage.load)\n",
    " * [Saving data from python to files](#storage.save)"
   ]
  },
  {
   "cell_type": "markdown",
   "metadata": {},
   "source": [
    "The Data Lab (DL) Interface is a user-friendly way of interacting with the various Data Lab services including authentication, database queries, and interacting with the virtual storage (VOSpace) your personal database (mydb).  This document is an introduction on how to use the Data Lab Interface.  **Note that to take full advantage of all the DL Interface funcionality it is recommended that these commands be run in a local python instance of Jupyter notebook on your laptop or desktop.**"
   ]
  },
  {
   "cell_type": "markdown",
   "metadata": {},
   "source": [
    "<a class=\"anchor\" id=\"imports\"></a>\n",
    "# Getting started, module imports and setup - the secret sauce\n",
    "First, you need a copy of the \"datalab\" package.  This is already installed on the Data Lab notebook server.\n",
    "To get started using the DL Interface, Import the DL interface class from the datalab package and create the \"dl\" object which is what you will use for the Data Lab commands."
   ]
  },
  {
   "cell_type": "code",
   "execution_count": 1,
   "metadata": {
    "collapsed": false
   },
   "outputs": [
    {
     "name": "stdout",
     "output_type": "stream",
     "text": [
      "Welcome to the Data Lab python interface.  Type dl.help() for help.\n"
     ]
    }
   ],
   "source": [
    "from dl.dlinterface import Dlinterface\n",
    "dl = Dlinterface()"
   ]
  },
  {
   "cell_type": "markdown",
   "metadata": {},
   "source": [
    "<a class=\"anchor\" id=\"help\"></a>\n",
    "# Most importantly, Help!\n",
    "The most important thing to know about a new package is how to get help!  There as several ways of doing this in the DL Interface.  If you simply type `dl.help()` it prints out the available commands. Note that every DL Interface command requires `()` at the end since they are object \"methods\"."
   ]
  },
  {
   "cell_type": "code",
   "execution_count": 2,
   "metadata": {
    "collapsed": false,
    "scrolled": false
   },
   "outputs": [
    {
     "name": "stdout",
     "output_type": "stream",
     "text": [
      "The Data Lab python interface.\n",
      " \n",
      "The available commands are:\n",
      " \n",
      "dl.help()      - Helpful information\n",
      "Use dl.help(<command>) for specific help on a command.\n",
      " \n",
      "-- Login and authentication --\n",
      "dl.login()          - Login to the Data Lab\n",
      "dl.logout()         - Logout of the Data Lab\n",
      "dl.status()         - Report on the user status\n",
      "dl.whoami()         - Print the current active user\n",
      "dl.servicestatus()  - Report on the status of the DL services\n",
      " \n",
      "-- File system operations --\n",
      "dl.ls()        - List a location in Data Lab\n",
      "dl.get()       - Get a file from Data Lab\n",
      "dl.put()       - Put a file into Data Lab\n",
      "dl.cp()        - Copy a file in Data Lab\n",
      "dl.mv()        - Move a file in Data Lab\n",
      "dl.rm()        - Delete a file in Data Lab\n",
      "dl.mkdir()     - Create a directory in Data Lab\n",
      "dl.rmdir()     - Delete a directory in Data Lab\n",
      "dl.ln()        - Link a file in Data Lab\n",
      "dl.tag()       - Tag a file in Data Lab\n",
      " \n",
      "-- Query and database operations --\n",
      "dl.query()          - Query a remote data service in the Data Lab\n",
      "dl.queryhistory()   - List history of queries made\n",
      "dl.queryresults()   - Get the async query results\n",
      "dl.querystatus()    - Get an async query job status\n",
      "dl.queryprofiles()  - List the available query profiles\n",
      "dl.schema()         - Get information on database schemas\n",
      "dl.dropdb()         - Drop a user MyDB table\n",
      "dl.listdb()         - List the user MyDB tables\n",
      "dl.siaquery()       - Query a SIA service in the Data Lab\n"
     ]
    }
   ],
   "source": [
    "dl.help()"
   ]
  },
  {
   "cell_type": "markdown",
   "metadata": {},
   "source": [
    "You can also get help on any specific command by doing `dl.help('COMMAND')`.  For example,"
   ]
  },
  {
   "cell_type": "code",
   "execution_count": 3,
   "metadata": {
    "collapsed": false
   },
   "outputs": [
    {
     "name": "stdout",
     "output_type": "stream",
     "text": [
      "Help on method cp in module dl.dlinterface:\n",
      "\n",
      "cp(self, source=None, destination=None, verbose=True) method of dl.dlinterface.Dlinterface instance\n",
      "    Copy a file in Data Lab VOSpace.\n",
      "    \n",
      "    Parameters\n",
      "    ----------\n",
      "    source : str\n",
      "         The name of the file in VOSpace to copy, e.g. ``file1.txt``.\n",
      "    \n",
      "    destination : str\n",
      "         The new name of the file in VOSpace, e.g. ``newfile1.txt``.\n",
      "    \n",
      "    Example\n",
      "    -------\n",
      "    \n",
      "    Copy the file ``file.txt`` to ``newfile.txt``.\n",
      "    \n",
      "    .. code-block:: python\n",
      "    \n",
      "        dl.ls()\n",
      "        file1.txt\n",
      "    \n",
      "        dl.cp('file1.txt','newfile.txt')\n",
      "    \n",
      "        dl.ls()\n",
      "        file1.txt, newfile.txt\n",
      "\n"
     ]
    }
   ],
   "source": [
    "dl.help('cp')"
   ]
  },
  {
   "cell_type": "markdown",
   "metadata": {},
   "source": [
    "You can also use the standard python `help(function, object or object method)` syntax, e.g. `help('dl.logout')`, to get help, or putting a `?` at the end of a command."
   ]
  },
  {
   "cell_type": "code",
   "execution_count": 4,
   "metadata": {
    "collapsed": true
   },
   "outputs": [],
   "source": [
    "dl.query?"
   ]
  },
  {
   "cell_type": "markdown",
   "metadata": {},
   "source": [
    "Finally, since \"dl\" is an object you type `dl.<TAB>` and the available object methods will appear."
   ]
  },
  {
   "cell_type": "markdown",
   "metadata": {},
   "source": [
    "Finally, the DL Interface commands that require some inputs will return a simple syntax/signature statement if called with no arguments."
   ]
  },
  {
   "cell_type": "code",
   "execution_count": 5,
   "metadata": {
    "collapsed": false
   },
   "outputs": [
    {
     "name": "stdout",
     "output_type": "stream",
     "text": [
      "Syntax - dl.query(query, qtype='sql|adql', fmt='csv|string|array|structarray|pandas|table|votable|fits|hdf5',\n",
      "                  out='', async=False, profile='default')\n"
     ]
    }
   ],
   "source": [
    "dl.query()"
   ]
  },
  {
   "cell_type": "markdown",
   "metadata": {},
   "source": [
    "<a class=\"anchor\" id=\"authentication\"></a>\n",
    "# Authentication\n",
    "To get most of the functionality of the Data Lab you will need to login to your Data Lab account.  We do this with `dl.login()`.  You will be prompted for your password (and your username if you didn't specify it)."
   ]
  },
  {
   "cell_type": "code",
   "execution_count": 6,
   "metadata": {
    "collapsed": false
   },
   "outputs": [
    {
     "name": "stdout",
     "output_type": "stream",
     "text": [
      "Enter user: username\n",
      "Enter password: ········\n",
      "Welcome to the Data Lab, username\n"
     ]
    }
   ],
   "source": [
    "dl.login()"
   ]
  },
  {
   "cell_type": "markdown",
   "metadata": {},
   "source": [
    "When you are done with your Data Lab work you can logout with `dl.logout()`.  You can also see what your login status is with `dl.status()` and who you are currently logged-in as with `dl.whoami()`."
   ]
  },
  {
   "cell_type": "markdown",
   "metadata": {},
   "source": [
    "<a class=\"anchor\" id=\"queries\"></a>\n",
    "# Database Queries\n",
    "Let's get started with some database queries.  To see what catalogs are in the Data Lab database use `dl.schema()`.  You can also get information at deeper levels by specifying specific tables or columns, e.g. `dl.schema('smash_dr1.object')`."
   ]
  },
  {
   "cell_type": "code",
   "execution_count": 7,
   "metadata": {
    "collapsed": false,
    "scrolled": true
   },
   "outputs": [
    {
     "name": "stdout",
     "output_type": "stream",
     "text": [
      "\n",
      "     Schema Name   Description\n",
      "     -----------   -----------\n",
      "        gaia_dr1   GAIA Data Release 1\n",
      "            ivoa   IVOA ObsCore tables\n",
      "        des_sva1   DES SVA1 Data Products\n",
      "      tap_schema   TAP Schema Tables\n",
      "            usno   USNO Astrometry Catalogs\n",
      "       sdss_dr13   \n",
      "         neo_dr1   NEO Survey Data Release 1\n",
      "          ls_dr3   The DECam Legacy Survey Data Release 3\n",
      "       smash_dr1   SMASH Data Release 1\n",
      "\n"
     ]
    }
   ],
   "source": [
    "dl.schema()"
   ]
  },
  {
   "cell_type": "markdown",
   "metadata": {},
   "source": [
    "The only requirement for a query is the SQL query string that specifies the columns you want, from which table and any restrictions or cuts.  `select COLUMNS from CATALOG.TABLE where CONSTRAINTS`.  It's often helpful for testing to end with a `LIMIT` statement to only return a small number of rows."
   ]
  },
  {
   "cell_type": "code",
   "execution_count": 8,
   "metadata": {
    "collapsed": false
   },
   "outputs": [
    {
     "name": "stdout",
     "output_type": "stream",
     "text": [
      "Returning CSV formatted table as a string\n",
      "id,ra,dec,gmag\n",
      "84.43705,157.576594556189,-31.1810517321523,25.0617\n",
      "84.43705,157.576594556189,-31.1810517321523,25.0617\n",
      "84.41595,157.577066096003,-31.1810160528312,25.1985\n",
      "84.41595,157.577066096003,-31.1810160528312,25.1985\n",
      "84.39718,157.567844754001,-31.1777341604321,24.9557\n",
      "\n"
     ]
    }
   ],
   "source": [
    "res = dl.query('select id,ra,dec,gmag from smash_dr1.object limit 5')\n",
    "print res"
   ]
  },
  {
   "cell_type": "markdown",
   "metadata": {},
   "source": [
    "<a class=\"anchor\" id=\"queries.format\"></a>\n",
    "### Formats\n",
    "There are several output formats that can be specified with the `fmt=` keyword.  The current available ones are:\n",
    "* 'csv'  -   the returned result is a comma-separated string that looks like a csv file (newlines at the end of every row)\n",
    "* 'ascii' -  same as csv but tab-delimited\n",
    "* 'array' -  Numpy array\n",
    "* 'structarray' - Numpy structured / record array\n",
    "* 'pandas' - a Pandas data frame\n",
    "* 'table' -  in Astropy Table format\n",
    "* 'votable' -  result is a string XML-formatted as a VO table\n",
    "* 'fits'  -  fits format, for file output ONLY\n",
    "* 'hdf5'  -  HDF5 format, for file output ONLY"
   ]
  },
  {
   "cell_type": "code",
   "execution_count": 9,
   "metadata": {
    "collapsed": false
   },
   "outputs": [
    {
     "name": "stdout",
     "output_type": "stream",
     "text": [
      "Returning Numpy structured / record array\n",
      "[(84.43705, 157.576594556189, -31.1810517321523, 25.0617)\n",
      " (84.43705, 157.576594556189, -31.1810517321523, 25.0617)\n",
      " (84.41595, 157.577066096003, -31.1810160528312, 25.1985)\n",
      " (84.41595, 157.577066096003, -31.1810160528312, 25.1985)\n",
      " (84.39718, 157.567844754001, -31.1777341604321, 24.9557)]\n"
     ]
    }
   ],
   "source": [
    "res = dl.query('select id,ra,dec,gmag from smash_dr1.object limit 5',fmt='structarray')\n",
    "print res"
   ]
  },
  {
   "cell_type": "markdown",
   "metadata": {},
   "source": [
    "<a class=\"anchor\" id=\"queries.sync\"></a>\n",
    "### Synchronous versus Asynchronous queries\n",
    "There are two types of Data Lab queries that you can run: \"synchronous\" or \"asynchronous\".  A synchronous query will return directly and is akin to a \"foreground\" job, while an asynchronous query runs in the \"background\" and the results need to retrieved when the query is complete.  Queries are synchronous by default but asynchronous can be used by specifying `async=True`.  It is a good idea to use asynchronous if the query is expected to be quite long."
   ]
  },
  {
   "cell_type": "markdown",
   "metadata": {},
   "source": [
    "Let's try a simple asynchronous query."
   ]
  },
  {
   "cell_type": "code",
   "execution_count": 10,
   "metadata": {
    "collapsed": false
   },
   "outputs": [
    {
     "name": "stdout",
     "output_type": "stream",
     "text": [
      "Asynchronous query JobID = ux2dp0tkw3o1x3e6 \n"
     ]
    }
   ],
   "source": [
    "jobid = dl.query('select id,ra,dec,gmag from smash_dr1.object limit 1000',fmt='structarray',async=True)"
   ]
  },
  {
   "cell_type": "markdown",
   "metadata": {},
   "source": [
    "When you run an asynchronous query it does not return the results but instead a JobID string.  This can later be used to see the status of the query with `dl.querystatus(JobID)` and/or retrive the results with `dl.queryresults(JobID)`.  You can also retrive async query results with the Query ID (QID) that can be obtained from the query history output (see below)."
   ]
  },
  {
   "cell_type": "code",
   "execution_count": 11,
   "metadata": {
    "collapsed": false
   },
   "outputs": [
    {
     "name": "stdout",
     "output_type": "stream",
     "text": [
      "COMPLETED\n"
     ]
    }
   ],
   "source": [
    "# Check the status of the query\n",
    "dl.querystatus(jobid)"
   ]
  },
  {
   "cell_type": "code",
   "execution_count": 12,
   "metadata": {
    "collapsed": false
   },
   "outputs": [
    {
     "name": "stdout",
     "output_type": "stream",
     "text": [
      "Returning Numpy structured / record array\n"
     ]
    }
   ],
   "source": [
    "# When it is completed retrieve the results\n",
    "res = dl.queryresults(jobid)"
   ]
  },
  {
   "cell_type": "markdown",
   "metadata": {},
   "source": [
    "<a class=\"anchor\" id=\"queries.history\"></a>\n",
    "### Query History\n",
    "The DL Interface keeps a history of all the queries that you make, synchronous or asynchronous.  This can be useful for seeing what you have done, checking the status of any async queries, or rerunning queries."
   ]
  },
  {
   "cell_type": "code",
   "execution_count": 13,
   "metadata": {
    "collapsed": false
   },
   "outputs": [
    {
     "name": "stdout",
     "output_type": "stream",
     "text": [
      "-------------------------------------------------------------------------------------------------------------------\n",
      "QID          DATE        Type  A/SYNC  Format       Status          JobID                   Query\n",
      "-------------------------------------------------------------------------------------------------------------------\n",
      "1    2017-05-25 18:30:08  sql   ASYNC  structarray  COMPLETED   ux2dp0tkw3o1x3e6    'select id,ra,dec,gmag from smash_dr1.object limit 1000'\n",
      "-------------------------------------------------------------------------------------------------------------------\n"
     ]
    }
   ],
   "source": [
    "dl.queryhistory()"
   ]
  },
  {
   "cell_type": "markdown",
   "metadata": {},
   "source": [
    "The QID (first column) can be used to retrive async query results, e.g. `dl.queryresults(1)`, or to rerun a previous query `res = dl.query(1,fmt='pandas')`."
   ]
  },
  {
   "cell_type": "markdown",
   "metadata": {},
   "source": [
    "<a class=\"anchor\" id=\"queries.outputs\"></a>\n",
    "## Outputs\n",
    "There are various ways to output the results of a query using the `out=` keyword.\n",
    "* Direct output to the user at the prompt.  Don't specify `out` or set to `None`.\n",
    "* To a local file. `out=FILENAME`.\n",
    "* To a file on VOSpace.  `out=vos://FILENAME`.\n",
    "* To a table in your mydb.  `out=mydb://TABLENAME`."
   ]
  },
  {
   "cell_type": "code",
   "execution_count": 14,
   "metadata": {
    "collapsed": false
   },
   "outputs": [],
   "source": [
    "dl.query('select * from smash_dr1.object limit 5000',out='vos://smash_test.csv')"
   ]
  },
  {
   "cell_type": "code",
   "execution_count": 15,
   "metadata": {
    "collapsed": false
   },
   "outputs": [
    {
     "name": "stdout",
     "output_type": "stream",
     "text": [
      "drw-rw----  dnidever    512B  02 Feb 2017 00:00:00  public/  \n",
      "-rw-rw----  dnidever  152.9K  02 Jun 2017 13:03:07  results.hdf5  \n",
      "-rw-rw-r--  dnidever    1.2M  02 Jun 2017 15:16:50  smash_test.csv  \n",
      "-rw-rw----  dnidever  234.4K  01 Jun 2017 12:20:52  test.csv  \n",
      "-rw-rw----  dnidever  317.8K  01 Jun 2017 12:21:13  test.fits  \n",
      "-rw-rw----  dnidever  234.4K  01 Jun 2017 12:20:52  test.txt  \n",
      "drw-rw----  dnidever    512B  02 Feb 2017 00:00:00  tmp/  \n"
     ]
    }
   ],
   "source": [
    "# Check that the new file is there in your vospace\n",
    "dl.ls(verbose=True)"
   ]
  },
  {
   "cell_type": "markdown",
   "metadata": {},
   "source": [
    "<a class=\"anchor\" id=\"dbcommands\"></a>\n",
    "# Other Database Commands\n",
    "There are several other useful database commands."
   ]
  },
  {
   "cell_type": "markdown",
   "metadata": {},
   "source": [
    "<a class=\"anchor\" id=\"dbcommands.schema\"></a>\n",
    "### Database Schema\n",
    "As already mentioned above, the `dl.schema()` command can be used to learn more about the various database catalogs and tables.  It's possible to obtain information at various levels.  The input is `catalog.table.column`."
   ]
  },
  {
   "cell_type": "code",
   "execution_count": 16,
   "metadata": {
    "collapsed": false,
    "scrolled": true
   },
   "outputs": [
    {
     "name": "stdout",
     "output_type": "stream",
     "text": [
      "\n",
      "     Schema Name   Description\n",
      "     -----------   -----------\n",
      "        gaia_dr1   GAIA Data Release 1\n",
      "            ivoa   IVOA ObsCore tables\n",
      "        des_sva1   DES SVA1 Data Products\n",
      "      tap_schema   TAP Schema Tables\n",
      "            usno   USNO Astrometry Catalogs\n",
      "       sdss_dr13   \n",
      "         neo_dr1   NEO Survey Data Release 1\n",
      "          ls_dr3   The DECam Legacy Survey Data Release 3\n",
      "       smash_dr1   SMASH Data Release 1\n",
      "\n"
     ]
    }
   ],
   "source": [
    "# List top level catalogs\n",
    "dl.schema()"
   ]
  },
  {
   "cell_type": "code",
   "execution_count": 17,
   "metadata": {
    "collapsed": false
   },
   "outputs": [
    {
     "name": "stdout",
     "output_type": "stream",
     "text": [
      "\n",
      "Schema: smash_dr1\n",
      "\n",
      "      Table Name   Description\n",
      "      ----------   -----------\n",
      "            chip   Info on each chip in the frame\n",
      "        exposure   Info on each exposure\n",
      "           field   Info on each target field (position, Num exposures, etc)\n",
      "          object   Average photometry of each unique object\n",
      "          source   All of the individual source measurements\n",
      "           stars   View of object table to select for stars\n",
      "        galaxies   View of object table to select for galaxies\n",
      "          xmatch   Crossmatch of object against GAIA DR1 and WISE\n",
      "\n"
     ]
    }
   ],
   "source": [
    "# List tables in smash_dr1 catalog\n",
    "dl.schema('smash_dr1')"
   ]
  },
  {
   "cell_type": "code",
   "execution_count": 18,
   "metadata": {
    "collapsed": false
   },
   "outputs": [
    {
     "name": "stdout",
     "output_type": "stream",
     "text": [
      "\n",
      "Schema: smash_dr1\n",
      " Table: object\n",
      "\n",
      "     Column Name   Description\n",
      "     -----------   -----------\n",
      "            htm9   HTM index (order 9 => ~10 arcmin size)\n",
      "          pix256   HEALPIX index (Nsides 256 => ~14 arcmin size)\n",
      "              id   Unique ID for this object, the field name plus a running number\n",
      "         fieldid   SMASH Field ID\n",
      "              ra   Right Ascension (J2000.0) of source, in degrees\n",
      "             dec   Declination (J2000.0) of source, in degrees\n",
      "           raerr   Uncertainty in mean RA of object (arcseconds) from indiv values\n",
      "          decerr   Uncertainty in mean DEC of object (arcseconds) from indiv \n",
      "                   alues\n",
      "            ndet   Number of detections of this source (in ALLSRC)\n",
      "       depthflag   Flag of exposure detected in: 1-shallow, 2-deep, 3-both\n",
      "            umag   Weighted-average, calibrated u-band magnitude, 99.99 if no\n",
      "                   detection\n",
      "            uerr   Uncertainty in calibrated u-band magnitude\n",
      "        uscatter   RMS scatter in u from multiple measurements of this object\n",
      "           ndetu   Number of detections in u\n",
      "            gmag   Weighted-average, calibrated g-band magnitude, 99.99 if no\n",
      "                   detection\n",
      "            gerr   Unceratinty in calibrated g-band magnitude\n",
      "        gscatter   RMS scatter in g from multiple measurements of this object\n",
      "           ndetg   Number of detections in g\n",
      "            rmag   Weighted-avarage, calibrated r-band magnitude, 99.99 if no\n",
      "                   detection\n",
      "            rerr   Uncertainty in calibrated r-band magnitude\n",
      "        rscatter   RMS scatter in r from multiple measurements of this object\n",
      "           ndetr   Number of detections in r\n",
      "            imag   Weighted-average, calibrated i-band magnitude, 99.99 if no\n",
      "                   detection\n",
      "            ierr   Uncertainty in calibrated i-band magnitude\n",
      "        iscatter   RMS scatter in i from multiple measurements of this object\n",
      "           ndeti   Number of detections in i\n",
      "            zmag   Weighted-avarege, calibrated z-band magnitude, 99.99 if no\n",
      "                   detection\n",
      "            zerr   Uncertainty in calibrated z-band magnitude\n",
      "        zscatter   RMS scatter in z from multiple measurements of this object\n",
      "           ndetz   Number of detections in z\n",
      "             u_g   u-g color index\n",
      "             g_r   g-r color index\n",
      "             g_i   g-i color index\n",
      "             i_z   i-z color index\n",
      "             chi   Average DAOPHOT chi value, i.e. how well the PSF fit this \n",
      "                   ource\n",
      "           sharp   Average DAOPHOT sharp value, measurement of peakiness\n",
      "            flag   OR-combined Source Extractor FLAG value from coadd image\n",
      "            prob   Average Source Extractor stellaricity probability value\n",
      "             ebv   Median SFD E(B-V) across frame\n",
      "\n"
     ]
    }
   ],
   "source": [
    "# List columns in smash_dr1.object table\n",
    "dl.schema('smash_dr1.object')"
   ]
  },
  {
   "cell_type": "markdown",
   "metadata": {},
   "source": [
    "<a class=\"anchor\" id=\"dbcommands.list\"></a>\n",
    "### List MyDB Tables\n",
    "Use the `dl.listdb()` command to list all of the tables in your MyDB.  You can list all tables or identify individual ones."
   ]
  },
  {
   "cell_type": "code",
   "execution_count": 19,
   "metadata": {
    "collapsed": false
   },
   "outputs": [
    {
     "data": {
      "text/plain": [
       "'test test2'"
      ]
     },
     "execution_count": 19,
     "metadata": {},
     "output_type": "execute_result"
    }
   ],
   "source": [
    "# List the MyDB tables\n",
    "dl.listdb()"
   ]
  },
  {
   "cell_type": "markdown",
   "metadata": {},
   "source": [
    "<a class=\"anchor\" id=\"dbcommands.droptable\"></a>\n",
    "### Drop a MyDB Table\n",
    "Use the `dl.droptable()` command to drop/delete a single MyDB table."
   ]
  },
  {
   "cell_type": "code",
   "execution_count": 20,
   "metadata": {
    "collapsed": false
   },
   "outputs": [
    {
     "name": "stdout",
     "output_type": "stream",
     "text": [
      "Table 'test' was dropped.\n"
     ]
    }
   ],
   "source": [
    "# Drop a table in MyDB\n",
    "dl.droptable('test')"
   ]
  },
  {
   "cell_type": "markdown",
   "metadata": {},
   "source": [
    "<a class=\"anchor\" id=\"dbcommands.exporttable\"></a>\n",
    "### Export a MyDB Table to a File\n",
    "Use the `dl.exporttable()` command to export or copy a MyDb table to a file in your VOSpace.  The available output formats are fits, csv and hdf5."
   ]
  },
  {
   "cell_type": "code",
   "execution_count": 21,
   "metadata": {
    "collapsed": false
   },
   "outputs": [
    {
     "name": "stdout",
     "output_type": "stream",
     "text": [
      "Table 'test2' not found.\n"
     ]
    }
   ],
   "source": [
    "# Export a table to a file\n",
    "dl.exporttable('test2','vos://myresult.fits',fmt='fits')"
   ]
  },
  {
   "cell_type": "markdown",
   "metadata": {},
   "source": [
    "<a class=\"anchor\" id=\"dbcommands.siaquery\"></a>\n",
    "### Simple Image Access (SIA) Search\n",
    "Use the `dl.siaquery()` command to perform a Simple Image Access (SIA) search.  This will return a list of all the available images in the NOAO archive that cover a given point in the sky with a search radius."
   ]
  },
  {
   "cell_type": "code",
   "execution_count": 22,
   "metadata": {
    "collapsed": false
   },
   "outputs": [
    {
     "name": "stdout",
     "output_type": "stream",
     "text": [
      "The image list contains 19 entries\n"
     ]
    }
   ],
   "source": [
    "# Get all images that cover ra=100.0, dec=+20.0 within a radius of 0.1 deg\n",
    "list = dl.siaquery(5.0, 10.0, 0.2)"
   ]
  },
  {
   "cell_type": "markdown",
   "metadata": {},
   "source": [
    "<a class=\"anchor\" id=\"storage\"></a>\n",
    "# Handling files in your virtual storage space\n",
    "Next, let's learn how to deal with files in your Data Lab virtual storage (VOSpace).  This is a designated space on the DL server for your files that you can use and manipulate as you please.  There are many unix-like commands to work on these files: `ls, cp, mv, rm, mkdir, rmdir, ln`.  There are also commands to sync files with your local file system (`put` and `get`) and copying/saving a file from a URL into VOSpace (`copyurl`).  Finally there are commands for loading files into python memory (`load`) and saving data in python to files (`save`)."
   ]
  },
  {
   "cell_type": "markdown",
   "metadata": {},
   "source": [
    "<a class=\"anchor\" id=\"storage.ls\"></a>\n",
    "### File Listing\n",
    "Let's start with a basic directory listing with `dl.ls()`.  This lists the file names and directory names at the main level.  Adding `verbose=True` gives more information."
   ]
  },
  {
   "cell_type": "code",
   "execution_count": 23,
   "metadata": {
    "collapsed": false
   },
   "outputs": [
    {
     "name": "stdout",
     "output_type": "stream",
     "text": [
      "public/  results.hdf5  test.csv  test.fits  test.txt  tmp/ \n"
     ]
    }
   ],
   "source": [
    "# basic listing\n",
    "dl.ls()"
   ]
  },
  {
   "cell_type": "code",
   "execution_count": 24,
   "metadata": {
    "collapsed": false
   },
   "outputs": [
    {
     "name": "stdout",
     "output_type": "stream",
     "text": [
      "drw-rw----  dnidever    512B  02 Feb 2017 00:00:00  public/  \n",
      "-rw-rw----  dnidever  152.9K  02 Jun 2017 13:03:07  results.hdf5  \n",
      "-rw-rw----  dnidever  234.4K  01 Jun 2017 12:20:52  test.csv  \n",
      "-rw-rw----  dnidever  317.8K  01 Jun 2017 12:21:13  test.fits  \n",
      "-rw-rw----  dnidever  234.4K  01 Jun 2017 12:20:52  test.txt  \n",
      "drw-rw----  dnidever    512B  02 Feb 2017 00:00:00  tmp/  \n"
     ]
    }
   ],
   "source": [
    "# more verbose listing\n",
    "dl.ls(verbose=True)"
   ]
  },
  {
   "cell_type": "markdown",
   "metadata": {},
   "source": [
    "<a class=\"anchor\" id=\"storage.unixcmds\"></a>\n",
    "### Unix-like File Commands - cp, mv, rm, mkdir, rmdir, ln\n",
    "The most important unix file manipulation commands are available in Data Lab VOSpace. `cp` - copy a file; `mv` - move or rename a file; `rm` - delete a file; `mkdir` - make a new directory; `rmdir` - remove a directory; `ln` - make a symbolic link."
   ]
  },
  {
   "cell_type": "code",
   "execution_count": 25,
   "metadata": {
    "collapsed": false
   },
   "outputs": [
    {
     "name": "stdout",
     "output_type": "stream",
     "text": [
      "public/  results.hdf5  test.csv  test.fits  test.txt  test2.fits  tmp/ \n"
     ]
    }
   ],
   "source": [
    "# Copy a file\n",
    "dl.cp('test.fits','test2.fits')\n",
    "dl.ls()"
   ]
  },
  {
   "cell_type": "code",
   "execution_count": 26,
   "metadata": {
    "collapsed": false
   },
   "outputs": [
    {
     "name": "stdout",
     "output_type": "stream",
     "text": [
      "newtest2.fits  public/  results.hdf5  test.csv  test.fits  test.txt  tmp/ \n"
     ]
    }
   ],
   "source": [
    "# Move a file\n",
    "dl.mv('test2.fits','newtest2.fits')\n",
    "dl.ls()"
   ]
  },
  {
   "cell_type": "code",
   "execution_count": 27,
   "metadata": {
    "collapsed": false
   },
   "outputs": [
    {
     "name": "stdout",
     "output_type": "stream",
     "text": [
      "public/  results.hdf5  test.csv  test.fits  test.txt  tmp/ \n"
     ]
    }
   ],
   "source": [
    "# Delete a file\n",
    "dl.rm('newtest2.fits')\n",
    "dl.ls()"
   ]
  },
  {
   "cell_type": "code",
   "execution_count": 28,
   "metadata": {
    "collapsed": false
   },
   "outputs": [
    {
     "name": "stdout",
     "output_type": "stream",
     "text": [
      "newdirectory/  public/  results.hdf5  test.csv  test.fits  test.txt  tmp/ \n"
     ]
    }
   ],
   "source": [
    "# Make a new directory\n",
    "dl.mkdir('newdirectory')\n",
    "dl.ls()"
   ]
  },
  {
   "cell_type": "code",
   "execution_count": 29,
   "metadata": {
    "collapsed": false
   },
   "outputs": [
    {
     "name": "stdout",
     "output_type": "stream",
     "text": [
      "public/  results.hdf5  test.csv  test.fits  test.txt  tmp/ \n"
     ]
    }
   ],
   "source": [
    "# Delete a directory\n",
    "dl.rmdir('newdirectory')\n",
    "dl.ls()"
   ]
  },
  {
   "cell_type": "code",
   "execution_count": 30,
   "metadata": {
    "collapsed": false
   },
   "outputs": [
    {
     "name": "stdout",
     "output_type": "stream",
     "text": [
      "lrw-rw----  dnidever      0B  02 Jun 2017 15:15:54  link_to_myresult -> /myresult.fits  \n",
      "drw-rw----  dnidever    512B  02 Feb 2017 00:00:00  public/  \n",
      "-rw-rw----  dnidever  152.9K  02 Jun 2017 13:03:07  results.hdf5  \n",
      "-rw-rw----  dnidever  234.4K  01 Jun 2017 12:20:52  test.csv  \n",
      "-rw-rw----  dnidever  317.8K  01 Jun 2017 12:21:13  test.fits  \n",
      "-rw-rw----  dnidever  234.4K  01 Jun 2017 12:20:52  test.txt  \n",
      "drw-rw----  dnidever    512B  02 Feb 2017 00:00:00  tmp/  \n"
     ]
    }
   ],
   "source": [
    "# Create a symbolic link\n",
    "dl.ln('myresult.fits','link_to_myresult')\n",
    "dl.ls(verbose=True)"
   ]
  },
  {
   "cell_type": "markdown",
   "metadata": {},
   "source": [
    "<a class=\"anchor\" id=\"storage.sync\"></a>\n",
    "### Copying local files to/from VOSpace\n",
    "You can easily copy files from your local file system to VOSpace or vice versa with the `put` and `get` commands.  Let's put a file from our local file system called `file.fits` to our VOSpace."
   ]
  },
  {
   "cell_type": "code",
   "execution_count": 31,
   "metadata": {
    "collapsed": false
   },
   "outputs": [
    {
     "name": "stdout",
     "output_type": "stream",
     "text": [
      "(1 / 1) test1.fits -> vos://test1.fits\n"
     ]
    }
   ],
   "source": [
    "# Copy a file to VOSpace\n",
    "dl.put('test1.fits','vos://')"
   ]
  },
  {
   "cell_type": "code",
   "execution_count": 32,
   "metadata": {
    "collapsed": false
   },
   "outputs": [
    {
     "name": "stdout",
     "output_type": "stream",
     "text": [
      "public/  results.hdf5  smash_test.csv  test.csv  test.fits  test.txt  test1.fits  tmp/ \n"
     ]
    }
   ],
   "source": [
    "# Check that the file is there\n",
    "dl.ls()"
   ]
  },
  {
   "cell_type": "markdown",
   "metadata": {},
   "source": [
    "Now let's get a file called `results.fits` from the VOSpace using `get`."
   ]
  },
  {
   "cell_type": "code",
   "execution_count": 33,
   "metadata": {
    "collapsed": false
   },
   "outputs": [
    {
     "name": "stdout",
     "output_type": "stream",
     "text": [
      "(1/1) [====================] [ 163.1K] test1.fits\n",
      "localtest1.fits\n"
     ]
    }
   ],
   "source": [
    "# Get a file from VOSpace\n",
    "dl.get('vos://test1.fits','localtest1.fits')\n",
    "!ls localtest1.fits"
   ]
  },
  {
   "cell_type": "markdown",
   "metadata": {},
   "source": [
    "<a class=\"anchor\" id=\"storage.copyurl\"></a>\n",
    "### Copying File from URL\n",
    "You can also easily copy a file into VOSpace using a URL using `copyurl`."
   ]
  },
  {
   "cell_type": "code",
   "execution_count": 34,
   "metadata": {
    "collapsed": false
   },
   "outputs": [
    {
     "name": "stdout",
     "output_type": "stream",
     "text": [
      "public/  results.hdf5  smash_test.csv  test.csv  test.fits  test.txt  test1.fits  tmp/  webpage.html \n"
     ]
    }
   ],
   "source": [
    "# Download a webpage\n",
    "dl.copyurl('http://datalab.noao.edu/index.html','vos://webpage.html')\n",
    "dl.ls()"
   ]
  },
  {
   "cell_type": "markdown",
   "metadata": {
    "collapsed": true
   },
   "source": [
    "<a class=\"anchor\" id=\"storage.load\"></a>\n",
    "### Loading files into python\n",
    "There is an easy command to load files (either local or in VOSpace) into python memory using the `load` command.  The supported input files are: fits, hdf5, csv and ascii.  There are many different output formats: csv, ascii (tab-delimited), string, numpy array, numpy structarray, pandas, astropy table, and astropy votable."
   ]
  },
  {
   "cell_type": "code",
   "execution_count": 35,
   "metadata": {
    "collapsed": false
   },
   "outputs": [
    {
     "data": {
      "text/plain": [
       "pandas.core.frame.DataFrame"
      ]
     },
     "execution_count": 35,
     "metadata": {},
     "output_type": "execute_result"
    }
   ],
   "source": [
    "# Load file vos://output.fits into a pandas data frame\n",
    "df = dl.load('vos://test10.fits',fmt='pandas')\n",
    "type(df)"
   ]
  },
  {
   "cell_type": "markdown",
   "metadata": {},
   "source": [
    "<a class=\"anchor\" id=\"storage.save\"></a>\n",
    "### Saving data from python to files\n",
    "Saving data from python to a file is just as easy using `save`.  The supported python data types are: csv, ascii (tab-delimited), string, numpy array, numpy structarray, pandas, astropy table, and astropy votable.  The supported output format depends somewhat on the data type but generally are: csv, fits, and hdf5.  The output format does not need to be specified if it can be determined from the filename extension."
   ]
  },
  {
   "cell_type": "code",
   "execution_count": 36,
   "metadata": {
    "collapsed": false
   },
   "outputs": [
    {
     "name": "stdout",
     "output_type": "stream",
     "text": [
      "public/  results.hdf5  results2.hdf5  smash_test.csv  test.csv  test.fits  test.txt  test1.fits  tmp/  webpage.html \n"
     ]
    }
   ],
   "source": [
    "# Save a pandas data frame 'df' to file vos://results.hdf5 \n",
    "dl.save(df, 'vos://results2.hdf5')\n",
    "dl.ls()"
   ]
  }
 ],
 "metadata": {
  "kernelspec": {
   "display_name": "Python 2",
   "language": "python",
   "name": "python2"
  },
  "language_info": {
   "codemirror_mode": {
    "name": "ipython",
    "version": 2
   },
   "file_extension": ".py",
   "mimetype": "text/x-python",
   "name": "python",
   "nbconvert_exporter": "python",
   "pygments_lexer": "ipython2",
   "version": "2.7.13"
  }
 },
 "nbformat": 4,
 "nbformat_minor": 2
}
